{
 "cells": [
  {
   "cell_type": "code",
   "execution_count": 14,
   "id": "fc719c9e-4df4-42e4-9f70-d331a0172b42",
   "metadata": {},
   "outputs": [],
   "source": [
    "import requests\n",
    "\n",
    "# Define the API endpoint\n",
    "api_url = 'https://vmsn-app-planner3test.azurewebsites.net/status/market/bid-result'\n",
    "\n",
    "# Define the query parameters\n",
    "params = {\n",
    "    'ForDate': '2024-02-03',\n",
    "    'Market': 'FCR-D-D1',\n",
    "    'CustomerId': 'TestCustomer',\n",
    "    'Country': 'Sweden'\n",
    "}\n",
    "\n",
    "# Define the headers\n",
    "headers = {\n",
    "    'accept': 'text/plain',\n",
    "    'ApiKey': 'Api-Planner-996ba74c-cdaf-4f66-9448-ffff'\n",
    "}\n",
    "\n",
    "# Make the API request\n",
    "response = requests.get(api_url, headers=headers, params=params)\n",
    "\n",
    "# Convert from 'text/plain' to JSON serializable data\n",
    "response_json = response.json()\n",
    "\n",
    "# Make the file more readable\n",
    "response_json = json.dumps(response_json, indent=4)\n",
    "\n",
    "# Write the file to 'API_Request_Output.json'\n",
    "with open('API_Request_Output.json', 'w') as outfile:\n",
    "    outfile.write(response_json)\n"
   ]
  },
  {
   "cell_type": "code",
   "execution_count": null,
   "id": "250d8467-aa56-4d27-bd1b-47337b8ca299",
   "metadata": {},
   "outputs": [],
   "source": []
  }
 ],
 "metadata": {
  "kernelspec": {
   "display_name": "Python 3 (ipykernel)",
   "language": "python",
   "name": "python3"
  },
  "language_info": {
   "codemirror_mode": {
    "name": "ipython",
    "version": 3
   },
   "file_extension": ".py",
   "mimetype": "text/x-python",
   "name": "python",
   "nbconvert_exporter": "python",
   "pygments_lexer": "ipython3",
   "version": "3.12.4"
  }
 },
 "nbformat": 4,
 "nbformat_minor": 5
}
