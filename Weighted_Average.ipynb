{
 "cells": [
  {
   "cell_type": "code",
   "execution_count": 137,
   "id": "f711bce1-27fe-4a50-88ec-abc925b029d4",
   "metadata": {},
   "outputs": [],
   "source": [
    "import pandas as pd\n",
    "\n",
    "# Import processed data file\n",
    "file = 'Processed_Output.csv'\n",
    "df = pd.read_csv(file)\n",
    "\n",
    "# Calculate revenue\n",
    "df['Revenue'] = round(df['Positions'] * df['Price'], 1)\n",
    "\n",
    "# Create two new dataframes grouped by 'Time' instead of 'Id', and sum 'Position' size and 'Revenue' for every hour\n",
    "total_positions_df = df.groupby('Time')['Positions'].sum().reset_index()\n",
    "total_revenue_df = df.groupby('Time')['Revenue'].sum().reset_index()\n",
    "\n",
    "# Merge the two dataframes\n",
    "total_df = pd.merge(total_positions_df, total_revenue_df, on='Time')\n",
    "\n",
    "# Calculate weighted average prices\n",
    "total_df['Weighted_Average_Price'] = round(total_df['Revenue']/total_df['Positions'], 1)\n",
    "\n",
    "# Save new dataframe as CSV file\n",
    "total_df.to_csv('Weighted_Average_Output.csv', index=False)"
   ]
  },
  {
   "cell_type": "code",
   "execution_count": null,
   "id": "9ad488f2-ddb3-4ade-9b70-be629d8b44d0",
   "metadata": {},
   "outputs": [],
   "source": []
  }
 ],
 "metadata": {
  "kernelspec": {
   "display_name": "Python 3 (ipykernel)",
   "language": "python",
   "name": "python3"
  },
  "language_info": {
   "codemirror_mode": {
    "name": "ipython",
    "version": 3
   },
   "file_extension": ".py",
   "mimetype": "text/x-python",
   "name": "python",
   "nbconvert_exporter": "python",
   "pygments_lexer": "ipython3",
   "version": "3.12.4"
  }
 },
 "nbformat": 4,
 "nbformat_minor": 5
}
