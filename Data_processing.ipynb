{
 "cells": [
  {
   "cell_type": "code",
   "execution_count": 238,
   "id": "32545bab-416b-439d-92d7-0af7190c1cf8",
   "metadata": {},
   "outputs": [],
   "source": [
    "import pandas as pd\n",
    "\n",
    "with open('API_Request_Output.json') as json_data:\n",
    "    raw_data = json.load(json_data)\n",
    "    \n",
    "    # Extracting only the time series\n",
    "    df = pd.DataFrame(raw_data['series'])\n",
    "    \n",
    "    # Drop columns which are not of interest\n",
    "    df = df.drop(['customerId', 'status', 'assetId', 'currency', 'endInterval', 'resolution'], axis=1)\n",
    "    \n",
    "    # Extracting positions and converting them to floats\n",
    "    df['positions'] = df['positions'].apply(lambda x: [d['quantity'] for d in x if 'quantity' in d])\n",
    "\n",
    "    # Convert 'startInterval' from string to pandas time module\n",
    "    df['startInterval'] = pd.to_datetime(df['startInterval'])\n",
    "\n",
    "# Function to interate the dataframe over each quantity, making a new row for each quantity and hour\n",
    "def dataframe_iteration(row):\n",
    "    return [[row['externalId'], pos, row['price'], row['priceArea'], row['direction'], row['startInterval']] for pos in row['positions']]\n",
    "\n",
    "# Executing the function\n",
    "new_df = df.apply(lambda row: dataframe_iteration(row), axis=1)\n",
    "\n",
    "# Expand lists into separate rows\n",
    "new_df = new_df.explode().reset_index(drop=True)\n",
    "\n",
    "# Creates a sequence number for each row within the same Id\n",
    "new_df = pd.DataFrame(new_df.tolist(), columns=['Id', 'Positions', 'Price', 'Area', 'Direction', 'startInterval'])\n",
    "\n",
    "# Adds a new column 'Time' which increases by 1 hour for each iteration of 'Positions'\n",
    "new_df['Time'] = new_df.groupby('Id').cumcount().apply(lambda x: pd.Timedelta(hours=x)) + new_df['startInterval']\n",
    "\n",
    "# Drop 'startInterval' column\n",
    "new_df = new_df.drop(columns=['startInterval'])\n",
    "\n",
    "# Convert '2024-02-03 02:00:00' format to 'Date' and 'Time' for easier data processing\n",
    "new_df['Time'] = pd.to_datetime(new_df['Time'])\n",
    "new_df['Date'] = new_df['Time'].dt.date\n",
    "new_df['Time'] = new_df['Time'].dt.strftime('%H')\n",
    "\n",
    "# Convert quantities in 'Positions' to negative if the 'Direction' is Down\n",
    "new_df.loc[new_df['Direction'] == 'Down', 'Positions'] *= -1\n",
    "\n",
    "# Drop 'Direction' column\n",
    "new_df = new_df.drop(columns=['Direction'])\n",
    "\n",
    "new_df.to_csv('Processed_Output.csv', index=False)"
   ]
  },
  {
   "cell_type": "code",
   "execution_count": null,
   "id": "d0cf5d2c-97d9-40aa-8588-3c647f3b74f3",
   "metadata": {},
   "outputs": [],
   "source": []
  }
 ],
 "metadata": {
  "kernelspec": {
   "display_name": "Python 3 (ipykernel)",
   "language": "python",
   "name": "python3"
  },
  "language_info": {
   "codemirror_mode": {
    "name": "ipython",
    "version": 3
   },
   "file_extension": ".py",
   "mimetype": "text/x-python",
   "name": "python",
   "nbconvert_exporter": "python",
   "pygments_lexer": "ipython3",
   "version": "3.12.4"
  }
 },
 "nbformat": 4,
 "nbformat_minor": 5
}
